{
 "cells": [
  {
   "cell_type": "markdown",
   "metadata": {},
   "source": [
    "# A1 - Data Curation\n",
    "Preston Stringham "
   ]
  },
  {
   "cell_type": "markdown",
   "metadata": {},
   "source": [
    "# Step 1 - Data Acquisition\n",
    "\n",
    "We first start by actually acquiring our data using the Wikimedia REST APIs. The URLs for the REST APIs are listed in the second code block. Our goal is to replace parts of the URL in order to obtain different types of data from specified dates. In this case, we our curious about the mobile and web views of Wikipedia and we will need to specify which data we want(mobile vs desktop), and from what time we want the data. In the case of this project we want all of the data available from each source. From the documentation, we see that there is a legacy API and a current API, so we will need to make calls to both of these APIs to get all of the data and combine them into one dataset that we will visualize. "
   ]
  },
  {
   "cell_type": "code",
   "execution_count": 1,
   "metadata": {},
   "outputs": [],
   "source": [
    "import json\n",
    "import requests"
   ]
  },
  {
   "cell_type": "code",
   "execution_count": 2,
   "metadata": {},
   "outputs": [],
   "source": [
    "endpoint_legacy = 'https://wikimedia.org/api/rest_v1/metrics/legacy/pagecounts/aggregate/{project}/{access-site}/{granularity}/{start}/{end}'\n",
    "\n",
    "endpoint_pageviews = 'https://wikimedia.org/api/rest_v1/metrics/pageviews/aggregate/{project}/{access}/{agent}/{granularity}/{start}/{end}'"
   ]
  },
  {
   "cell_type": "markdown",
   "metadata": {},
   "source": [
    "## Data Parameters\n",
    "\n",
    "The following code block is how we are going to access the data. Notice the data type is a python dictionary. Since this is a dictionary, we should be able to change values based on dictionary keys. The reason this is necessary is because we want to change the 'access' or 'access-site' in order to obtain data from mobile vs desktop. We will write a function later that will allow us to use these dictionaries to complete the URLs above that will obtain our data from."
   ]
  },
  {
   "cell_type": "code",
   "execution_count": 3,
   "metadata": {},
   "outputs": [],
   "source": [
    "# SAMPLE parameters for getting aggregated legacy view data \n",
    "# see: https://wikimedia.org/api/rest_v1/#!/Legacy_data/get_metrics_legacy_pagecounts_aggregate_project_access_site_granularity_start_end\n",
    "params_legacy = {\"project\" : \"en.wikipedia.org\",\n",
    "                 \"access-site\" : \"desktop-site\",\n",
    "                 \"granularity\" : \"monthly\",\n",
    "                 \"start\" : \"2001010100\",\n",
    "                # for end use 1st day of month following final month of data\n",
    "                 \"end\" : \"2018100100\"\n",
    "                    }\n",
    "\n",
    "# SAMPLE parameters for getting aggregated current standard pageview data\n",
    "# see: https://wikimedia.org/api/rest_v1/#!/Pageviews_data/get_metrics_pageviews_aggregate_project_access_agent_granularity_start_end\n",
    "params_pageviews = {\"project\" : \"en.wikipedia.org\",\n",
    "                    \"access\" : \"desktop\",\n",
    "                    \"agent\" : \"user\",\n",
    "                    \"granularity\" : \"monthly\",\n",
    "                    \"start\" : \"2001010100\",\n",
    "                    # for end use 1st day of month following final month of data\n",
    "                    \"end\" : '2021101000'\n",
    "                    }\n",
    "# Customize these with your own information\n",
    "headers = {\n",
    "    'User-Agent': 'https://github.com/PrestonStringham',\n",
    "    'From': 'prestrin@uw.edu'\n",
    "}"
   ]
  },
  {
   "cell_type": "markdown",
   "metadata": {},
   "source": [
    "This function is what we will use to get the data from the API. We will use the response of this call to download 5 JSON files that will compose our final dataset. "
   ]
  },
  {
   "cell_type": "code",
   "execution_count": 4,
   "metadata": {},
   "outputs": [],
   "source": [
    "def api_call(endpoint,parameters):\n",
    "    call = requests.get(endpoint.format(**parameters), headers=headers)\n",
    "    response = call.json()\n",
    "    \n",
    "    return response"
   ]
  },
  {
   "cell_type": "markdown",
   "metadata": {},
   "source": [
    "Here we iterate through each of the 'access' and 'access-site' values to gather the data we want. Notice how the newer API has calls for both mobile app and mobile browser views. "
   ]
  },
  {
   "cell_type": "code",
   "execution_count": 5,
   "metadata": {},
   "outputs": [],
   "source": [
    "legacy = [\"desktop-site\", \"mobile-site\"]\n",
    "for access_value in legacy:\n",
    "    params_legacy[\"access-site\"] = access_value\n",
    "    response = api_call(endpoint_legacy, params_legacy)\n",
    "    file_name=\"../data/data_raw/pagecounts_\"+str(access_value)+\"_200801-201607.json\"\n",
    "    with open(file_name, \"w\") as file:\n",
    "        json.dump(response, file)\n",
    "\n",
    "pageview = [\"desktop\", \"mobile-app\", \"mobile-web\"]\n",
    "for access_value in pageview:\n",
    "    params_pageviews[\"access\"] = access_value\n",
    "    response = api_call(endpoint_pageviews, params_pageviews)\n",
    "    file_name=\"../data/data_raw/pageviews_\"+str(access_value)+\"_201508-202109.json\"\n",
    "    with open(file_name, \"w\") as file:\n",
    "        json.dump(response, file)"
   ]
  },
  {
   "cell_type": "markdown",
   "metadata": {},
   "source": [
    "# Preprocessing\n",
    "\n",
    "From the data that we downloaded in step 1, we are really only concerned with the month and year the data was acquired and how many views desktop and mobile receieved over this time. As the structure of the files is similar, I believe a function can be written that will preprocess each file automatically. The method will be discussed below."
   ]
  },
  {
   "cell_type": "markdown",
   "metadata": {},
   "source": [
    "First, gather all of JSON file names in the current working directory."
   ]
  },
  {
   "cell_type": "code",
   "execution_count": 6,
   "metadata": {},
   "outputs": [],
   "source": [
    "import glob\n",
    "json_files = [f for f in glob.glob(\"../data/data_raw/*.json\")]"
   ]
  },
  {
   "cell_type": "code",
   "execution_count": 7,
   "metadata": {},
   "outputs": [],
   "source": [
    "import pandas as pd"
   ]
  },
  {
   "cell_type": "markdown",
   "metadata": {},
   "source": [
    "This method is used to overcome the differences in the data between the legacy and current REST API. For example, the legacy uses 'access-site' to determine whether the data is referring to desktop or mobile. In the current API, this is referred to as just 'access.' This method allows us to refer to both data as 'access' for simplicity."
   ]
  },
  {
   "cell_type": "code",
   "execution_count": 8,
   "metadata": {},
   "outputs": [],
   "source": [
    "def get_columns_from_names(df, values = []):\n",
    "    cols = []\n",
    "    for i in values:\n",
    "        for j in df.columns:\n",
    "            if i in j:\n",
    "                cols.append(j)\n",
    "    return cols"
   ]
  },
  {
   "cell_type": "markdown",
   "metadata": {},
   "source": [
    "Below is the method that actually performs the preprocessing. We first find the relevant information from the data. We use Pandas built in function 'pd.DataFrame.from_dict()' which converts a dictionary into a dataframe. Next, we extract the year and month from the timestamp in the dataframe, then drop all columns that are not the view count. This leaves us with a dataframe which contains the month, year, and view count for a particular JSON file, which is exactly what we want."
   ]
  },
  {
   "cell_type": "code",
   "execution_count": 9,
   "metadata": {},
   "outputs": [],
   "source": [
    "def json_to_df(json_file_path):\n",
    "    with open(json_file_path, encoding=\"utf-8\") as file:\n",
    "        json_dictionary = json.load(file) \n",
    "        dictionary_items = json_dictionary[\"items\"]\n",
    "    temp_df = pd.DataFrame.from_dict(dictionary_items)\n",
    "    temp_df['year'] = temp_df['timestamp'].str[:4]\n",
    "    temp_df['month'] = temp_df['timestamp'].str[4:6]\n",
    "    temp_df.drop(get_columns_from_names(temp_df, ['timestamp', 'granularity', 'access',\n",
    "                                                  'project', 'agent', 'access-site']), inplace=True, axis=1)\n",
    "    return temp_df"
   ]
  },
  {
   "cell_type": "code",
   "execution_count": 10,
   "metadata": {
    "scrolled": true
   },
   "outputs": [
    {
     "data": {
      "text/plain": [
       "['../data/data_raw/pagecounts_desktop-site_200801-201607.json',\n",
       " '../data/data_raw/pageviews_mobile-app_201508-202109.json',\n",
       " '../data/data_raw/pageviews_mobile-web_201508-202109.json',\n",
       " '../data/data_raw/pagecounts_mobile-site_200801-201607.json',\n",
       " '../data/data_raw/pageviews_desktop_201508-202109.json']"
      ]
     },
     "execution_count": 10,
     "metadata": {},
     "output_type": "execute_result"
    }
   ],
   "source": [
    "json_files"
   ]
  },
  {
   "cell_type": "markdown",
   "metadata": {},
   "source": [
    "Above we take note of which files are going to be processed in what order. This is important because we need to know which dataframe contains what data. We then rename the column containing the view count in the dataframe to a name which matches the data in that dataframe. We will end up with five dataframes which we will merge together based on the year and month."
   ]
  },
  {
   "cell_type": "code",
   "execution_count": 11,
   "metadata": {},
   "outputs": [],
   "source": [
    "pagecounts_desktop = json_to_df(json_files[0])\n",
    "pagecounts_desktop = pagecounts_desktop.rename(columns={'count': 'pagecount_desktop_views'})\n",
    "\n",
    "pagecounts_mobile_site = json_to_df(json_files[3])\n",
    "pagecounts_mobile_site = pagecounts_mobile_site.rename(columns={'count': 'pagecount_mobile_views'})\n",
    "\n",
    "pageview_mobile_app = json_to_df(json_files[1])\n",
    "pageview_mobile_app = pageview_mobile_app.rename(columns={'views': 'pageview_mobile_app_views'})\n",
    "\n",
    "pageview_mobile_web = json_to_df(json_files[2])\n",
    "pageview_mobile_web = pageview_mobile_web.rename(columns={'views': 'pageview_mobile_web_views'})\n",
    "\n",
    "pageview_desktop = json_to_df(json_files[4])\n",
    "pageview_desktop = pageview_desktop.rename(columns={'views': 'pageview_desktop_views'})"
   ]
  },
  {
   "cell_type": "code",
   "execution_count": 12,
   "metadata": {},
   "outputs": [],
   "source": [
    "pagecounts_df = pd.merge(pagecounts_desktop, pagecounts_mobile_site, \n",
    "                         how='left', left_on=['year','month'], right_on = ['year','month']).fillna(0)"
   ]
  },
  {
   "cell_type": "code",
   "execution_count": 13,
   "metadata": {},
   "outputs": [],
   "source": [
    "pagecounts_df['pagecount_all_views'] = pagecounts_df[get_columns_from_names(pagecounts_df, ['views'])].sum(axis=1)"
   ]
  },
  {
   "cell_type": "code",
   "execution_count": 14,
   "metadata": {},
   "outputs": [],
   "source": [
    "pageviews_df = pd.merge(pageview_desktop, pageview_mobile_web, \n",
    "                        how='left', left_on=['year','month'], right_on = ['year','month']).fillna(0)"
   ]
  },
  {
   "cell_type": "code",
   "execution_count": 15,
   "metadata": {},
   "outputs": [],
   "source": [
    "pageviews_df = pd.merge(pageviews_df, pageview_mobile_app, \n",
    "                        how='left', left_on=['year','month'], right_on = ['year','month']).fillna(0)"
   ]
  },
  {
   "cell_type": "code",
   "execution_count": 16,
   "metadata": {},
   "outputs": [],
   "source": [
    "pageviews_df['pageview_mobile_views'] = pageviews_df[get_columns_from_names(pageviews_df, ['mobile'])].sum(axis=1)"
   ]
  },
  {
   "cell_type": "code",
   "execution_count": 17,
   "metadata": {},
   "outputs": [],
   "source": [
    "pageviews_df.drop(get_columns_from_names(pageviews_df, ['web', 'app']), inplace=True, axis=1)"
   ]
  },
  {
   "cell_type": "code",
   "execution_count": 18,
   "metadata": {},
   "outputs": [],
   "source": [
    "pageviews_df['pageview_all_views'] = pageviews_df[get_columns_from_names(pageviews_df, ['views'])].sum(axis=1)"
   ]
  },
  {
   "cell_type": "code",
   "execution_count": 19,
   "metadata": {},
   "outputs": [],
   "source": [
    "final_df = pd.merge(pagecounts_df, pageviews_df, \n",
    "                    how='outer', left_on=['year','month'], right_on = ['year','month']).fillna(0)"
   ]
  },
  {
   "cell_type": "markdown",
   "metadata": {},
   "source": [
    "Note: The following code block is unnecessary and just used to move columns around since I generally like the year and month columns to be the first columns in the data set."
   ]
  },
  {
   "cell_type": "code",
   "execution_count": 20,
   "metadata": {},
   "outputs": [],
   "source": [
    "final_df = final_df[['year', 'month', 'pagecount_all_views', 'pagecount_desktop_views', \n",
    "                     'pagecount_mobile_views', 'pageview_all_views', 'pageview_desktop_views',\n",
    "                     'pageview_mobile_views']]"
   ]
  },
  {
   "cell_type": "markdown",
   "metadata": {},
   "source": [
    "Below is our final dataframe containing all page views for the legacy and current API. We are now ready to visualize our data."
   ]
  },
  {
   "cell_type": "code",
   "execution_count": 21,
   "metadata": {},
   "outputs": [
    {
     "data": {
      "text/html": [
       "<div>\n",
       "<style scoped>\n",
       "    .dataframe tbody tr th:only-of-type {\n",
       "        vertical-align: middle;\n",
       "    }\n",
       "\n",
       "    .dataframe tbody tr th {\n",
       "        vertical-align: top;\n",
       "    }\n",
       "\n",
       "    .dataframe thead th {\n",
       "        text-align: right;\n",
       "    }\n",
       "</style>\n",
       "<table border=\"1\" class=\"dataframe\">\n",
       "  <thead>\n",
       "    <tr style=\"text-align: right;\">\n",
       "      <th></th>\n",
       "      <th>year</th>\n",
       "      <th>month</th>\n",
       "      <th>pagecount_all_views</th>\n",
       "      <th>pagecount_desktop_views</th>\n",
       "      <th>pagecount_mobile_views</th>\n",
       "      <th>pageview_all_views</th>\n",
       "      <th>pageview_desktop_views</th>\n",
       "      <th>pageview_mobile_views</th>\n",
       "    </tr>\n",
       "  </thead>\n",
       "  <tbody>\n",
       "    <tr>\n",
       "      <th>0</th>\n",
       "      <td>2007</td>\n",
       "      <td>12</td>\n",
       "      <td>2.998332e+09</td>\n",
       "      <td>2.998332e+09</td>\n",
       "      <td>0.0</td>\n",
       "      <td>0.000000e+00</td>\n",
       "      <td>0.000000e+00</td>\n",
       "      <td>0.000000e+00</td>\n",
       "    </tr>\n",
       "    <tr>\n",
       "      <th>1</th>\n",
       "      <td>2008</td>\n",
       "      <td>01</td>\n",
       "      <td>4.930903e+09</td>\n",
       "      <td>4.930903e+09</td>\n",
       "      <td>0.0</td>\n",
       "      <td>0.000000e+00</td>\n",
       "      <td>0.000000e+00</td>\n",
       "      <td>0.000000e+00</td>\n",
       "    </tr>\n",
       "    <tr>\n",
       "      <th>2</th>\n",
       "      <td>2008</td>\n",
       "      <td>02</td>\n",
       "      <td>4.818394e+09</td>\n",
       "      <td>4.818394e+09</td>\n",
       "      <td>0.0</td>\n",
       "      <td>0.000000e+00</td>\n",
       "      <td>0.000000e+00</td>\n",
       "      <td>0.000000e+00</td>\n",
       "    </tr>\n",
       "    <tr>\n",
       "      <th>3</th>\n",
       "      <td>2008</td>\n",
       "      <td>03</td>\n",
       "      <td>4.955406e+09</td>\n",
       "      <td>4.955406e+09</td>\n",
       "      <td>0.0</td>\n",
       "      <td>0.000000e+00</td>\n",
       "      <td>0.000000e+00</td>\n",
       "      <td>0.000000e+00</td>\n",
       "    </tr>\n",
       "    <tr>\n",
       "      <th>4</th>\n",
       "      <td>2008</td>\n",
       "      <td>04</td>\n",
       "      <td>5.159162e+09</td>\n",
       "      <td>5.159162e+09</td>\n",
       "      <td>0.0</td>\n",
       "      <td>0.000000e+00</td>\n",
       "      <td>0.000000e+00</td>\n",
       "      <td>0.000000e+00</td>\n",
       "    </tr>\n",
       "    <tr>\n",
       "      <th>...</th>\n",
       "      <td>...</td>\n",
       "      <td>...</td>\n",
       "      <td>...</td>\n",
       "      <td>...</td>\n",
       "      <td>...</td>\n",
       "      <td>...</td>\n",
       "      <td>...</td>\n",
       "      <td>...</td>\n",
       "    </tr>\n",
       "    <tr>\n",
       "      <th>161</th>\n",
       "      <td>2021</td>\n",
       "      <td>05</td>\n",
       "      <td>0.000000e+00</td>\n",
       "      <td>0.000000e+00</td>\n",
       "      <td>0.0</td>\n",
       "      <td>7.800996e+09</td>\n",
       "      <td>2.824416e+09</td>\n",
       "      <td>4.976580e+09</td>\n",
       "    </tr>\n",
       "    <tr>\n",
       "      <th>162</th>\n",
       "      <td>2021</td>\n",
       "      <td>06</td>\n",
       "      <td>0.000000e+00</td>\n",
       "      <td>0.000000e+00</td>\n",
       "      <td>0.0</td>\n",
       "      <td>7.090482e+09</td>\n",
       "      <td>2.505971e+09</td>\n",
       "      <td>4.584510e+09</td>\n",
       "    </tr>\n",
       "    <tr>\n",
       "      <th>163</th>\n",
       "      <td>2021</td>\n",
       "      <td>07</td>\n",
       "      <td>0.000000e+00</td>\n",
       "      <td>0.000000e+00</td>\n",
       "      <td>0.0</td>\n",
       "      <td>7.544494e+09</td>\n",
       "      <td>2.765584e+09</td>\n",
       "      <td>4.778909e+09</td>\n",
       "    </tr>\n",
       "    <tr>\n",
       "      <th>164</th>\n",
       "      <td>2021</td>\n",
       "      <td>08</td>\n",
       "      <td>0.000000e+00</td>\n",
       "      <td>0.000000e+00</td>\n",
       "      <td>0.0</td>\n",
       "      <td>7.495608e+09</td>\n",
       "      <td>2.763414e+09</td>\n",
       "      <td>4.732194e+09</td>\n",
       "    </tr>\n",
       "    <tr>\n",
       "      <th>165</th>\n",
       "      <td>2021</td>\n",
       "      <td>09</td>\n",
       "      <td>0.000000e+00</td>\n",
       "      <td>0.000000e+00</td>\n",
       "      <td>0.0</td>\n",
       "      <td>7.060157e+09</td>\n",
       "      <td>2.686644e+09</td>\n",
       "      <td>4.373513e+09</td>\n",
       "    </tr>\n",
       "  </tbody>\n",
       "</table>\n",
       "<p>166 rows × 8 columns</p>\n",
       "</div>"
      ],
      "text/plain": [
       "     year month  pagecount_all_views  pagecount_desktop_views  \\\n",
       "0    2007    12         2.998332e+09             2.998332e+09   \n",
       "1    2008    01         4.930903e+09             4.930903e+09   \n",
       "2    2008    02         4.818394e+09             4.818394e+09   \n",
       "3    2008    03         4.955406e+09             4.955406e+09   \n",
       "4    2008    04         5.159162e+09             5.159162e+09   \n",
       "..    ...   ...                  ...                      ...   \n",
       "161  2021    05         0.000000e+00             0.000000e+00   \n",
       "162  2021    06         0.000000e+00             0.000000e+00   \n",
       "163  2021    07         0.000000e+00             0.000000e+00   \n",
       "164  2021    08         0.000000e+00             0.000000e+00   \n",
       "165  2021    09         0.000000e+00             0.000000e+00   \n",
       "\n",
       "     pagecount_mobile_views  pageview_all_views  pageview_desktop_views  \\\n",
       "0                       0.0        0.000000e+00            0.000000e+00   \n",
       "1                       0.0        0.000000e+00            0.000000e+00   \n",
       "2                       0.0        0.000000e+00            0.000000e+00   \n",
       "3                       0.0        0.000000e+00            0.000000e+00   \n",
       "4                       0.0        0.000000e+00            0.000000e+00   \n",
       "..                      ...                 ...                     ...   \n",
       "161                     0.0        7.800996e+09            2.824416e+09   \n",
       "162                     0.0        7.090482e+09            2.505971e+09   \n",
       "163                     0.0        7.544494e+09            2.765584e+09   \n",
       "164                     0.0        7.495608e+09            2.763414e+09   \n",
       "165                     0.0        7.060157e+09            2.686644e+09   \n",
       "\n",
       "     pageview_mobile_views  \n",
       "0             0.000000e+00  \n",
       "1             0.000000e+00  \n",
       "2             0.000000e+00  \n",
       "3             0.000000e+00  \n",
       "4             0.000000e+00  \n",
       "..                     ...  \n",
       "161           4.976580e+09  \n",
       "162           4.584510e+09  \n",
       "163           4.778909e+09  \n",
       "164           4.732194e+09  \n",
       "165           4.373513e+09  \n",
       "\n",
       "[166 rows x 8 columns]"
      ]
     },
     "execution_count": 21,
     "metadata": {},
     "output_type": "execute_result"
    }
   ],
   "source": [
    "final_df"
   ]
  },
  {
   "cell_type": "code",
   "execution_count": 22,
   "metadata": {},
   "outputs": [],
   "source": [
    "final_df.to_csv('../data/data_clean/en-wikipedia_traffic_200712-202109.csv')"
   ]
  },
  {
   "cell_type": "markdown",
   "metadata": {},
   "source": [
    "# Plot"
   ]
  },
  {
   "cell_type": "code",
   "execution_count": 23,
   "metadata": {},
   "outputs": [],
   "source": [
    "df = pd.read_csv('../data/data_clean/en-wikipedia_traffic_200712-202109.csv')"
   ]
  },
  {
   "cell_type": "code",
   "execution_count": 24,
   "metadata": {},
   "outputs": [
    {
     "data": {
      "image/png": "[encoded data removed]",
      "text/plain": [
       "<Figure size 936x576 with 1 Axes>"
      ]
     },
     "metadata": {
      "needs_background": "light"
     },
     "output_type": "display_data"
    }
   ],
   "source": [
    "import matplotlib.pyplot as plt\n",
    "import pandas as pd\n",
    "import seaborn\n",
    "import datetime\n",
    "\n",
    "date = df['month'].map(str)+ '-' +df['year'].map(str)\n",
    "dates = [datetime.datetime.strptime(x,'%m-%Y').date() for x in date]\n",
    "x = dates\n",
    "\n",
    "y1 = df[\"pagecount_all_views\"]/1000000\n",
    "y2 = df[\"pagecount_desktop_views\"]/1000000\n",
    "y3 = df[\"pagecount_mobile_views\"]/1000000\n",
    "y4 = df[\"pageview_all_views\"]/1000000\n",
    "y5 = df[\"pageview_desktop_views\"]/1000000\n",
    "y6 = df[\"pageview_mobile_views\"]/1000000\n",
    "\n",
    "fig = plt.figure(figsize=(13, 8))\n",
    "\n",
    "plt.plot(x, y1, linestyle = \"--\", linewidth = 2, color='r')\n",
    "plt.plot(x, y2, linestyle = \"--\", linewidth = 2, color='g')\n",
    "plt.plot(x, y3, linestyle = \"--\", linewidth=2, color='b')\n",
    "plt.plot(x, y4, label = \"Total\", linewidth = 3, color='r')\n",
    "plt.plot(x, y5, label = \"Desktop\", linewidth = 3, color='g')\n",
    "plt.plot(x, y6, label = \"Mobile\", linewidth = 3, color='b')\n",
    "\n",
    "plt.legend()\n",
    "plt.xlabel(\"Time\")\n",
    "plt.ylabel(\"Page Views (in Millions)\")\n",
    "plt.title(\"English Wikipedia Page Views (2008-2021)\")\n",
    "plt.grid(True)\n",
    "plt.savefig('../data/results/output.jpg')\n",
    "plt.show()"
   ]
  }
 ],
 "metadata": {
  "kernelspec": {
   "display_name": "Python 3",
   "language": "python",
   "name": "python3"
  },
  "language_info": {
   "codemirror_mode": {
    "name": "ipython",
    "version": 3
   },
   "file_extension": ".py",
   "mimetype": "text/x-python",
   "name": "python",
   "nbconvert_exporter": "python",
   "pygments_lexer": "ipython3",
   "version": "3.8.5"
  }
 },
 "nbformat": 4,
 "nbformat_minor": 4
}
